{
  "nbformat": 4,
  "nbformat_minor": 0,
  "metadata": {
    "colab": {
      "provenance": [],
      "authorship_tag": "ABX9TyNmzCv8JceAnYopJUQDJNXM",
      "include_colab_link": true
    },
    "kernelspec": {
      "name": "python3",
      "display_name": "Python 3"
    },
    "language_info": {
      "name": "python"
    }
  },
  "cells": [
    {
      "cell_type": "markdown",
      "metadata": {
        "id": "view-in-github",
        "colab_type": "text"
      },
      "source": [
        "<a href=\"https://colab.research.google.com/github/sashaborodaneva/RPP_Lab2/blob/main/RPP_Lab2_part_2.ipynb\" target=\"_parent\"><img src=\"https://colab.research.google.com/assets/colab-badge.svg\" alt=\"Open In Colab\"/></a>"
      ]
    },
    {
      "cell_type": "code",
      "execution_count": null,
      "metadata": {
        "id": "tY8y2nuirm9-"
      },
      "outputs": [],
      "source": [
        "#lab_1_1\n",
        "\n",
        "a = int(input())\n",
        "b = int(input())\n",
        "c = int(input())\n",
        "list = [a, b, c]\n",
        "print('Наименьшее число: ', min(list))"
      ]
    },
    {
      "cell_type": "code",
      "source": [
        "#lab_1_2\n",
        "\n",
        "a = int(input())\n",
        "if a in range (1, 51):\n",
        "  print('Попадает в интервал: ', a)\n",
        "else: print('Не попадает в интервал')\n",
        "\n",
        "b = int(input())\n",
        "if b in range (1, 51):\n",
        "  print('Попадает в интервал: ', b)\n",
        "else: print('Не попадает в интервал')\n",
        "\n",
        "c = int(input())\n",
        "if c in range (1, 51):\n",
        "  print('Попадает в интервал: ', c)\n",
        "else: print('Не попадает в интервал')"
      ],
      "metadata": {
        "id": "GoJMUWMurrDW"
      },
      "execution_count": null,
      "outputs": []
    },
    {
      "cell_type": "code",
      "source": [
        "#lab_1_3\n",
        "\n",
        "m = float(input())\n",
        "list = []\n",
        "for i in range(1, 11):\n",
        "  if i <= 10:\n",
        "    list.append(i*m)\n",
        "print(list)"
      ],
      "metadata": {
        "id": "jPanOaYdruNs"
      },
      "execution_count": null,
      "outputs": []
    },
    {
      "cell_type": "code",
      "source": [
        "#lab_1_4.1\n",
        "\n",
        "i = 0\n",
        "while True:\n",
        "    a = int(input())\n",
        "    if a == 0:\n",
        "        break\n",
        "    i += a\n",
        "print('Сумма чисел последовательности: ', i)"
      ],
      "metadata": {
        "id": "UxT1PfKxrx4S"
      },
      "execution_count": null,
      "outputs": []
    },
    {
      "cell_type": "code",
      "source": [
        "#lab_1_4.2\n",
        "\n",
        "i=0\n",
        "while True:\n",
        "  a = int(input())\n",
        "  if a != 0:\n",
        "    i += 1\n",
        "  elif a == 0:\n",
        "    break\n",
        "print('Количество чисел последовательности: ', i)"
      ],
      "metadata": {
        "id": "UbBMeew-rzl7"
      },
      "execution_count": null,
      "outputs": []
    },
    {
      "cell_type": "code",
      "source": [
        "#lab_2_2.4\n",
        "\n",
        "a = list(input())\n",
        "print('Количество замен: ', a.count('a'))\n",
        "print('Количество символов в строке: ', len(a))\n",
        "a_len = len(a)\n",
        "print(a_len)\n",
        "for i in range(a_len):\n",
        "    if a[i] == 'a':\n",
        "        a[i] = 'o'\n",
        "        \n",
        "print(a)"
      ],
      "metadata": {
        "id": "hQeZARDgr1yV"
      },
      "execution_count": null,
      "outputs": []
    },
    {
      "cell_type": "code",
      "source": [
        "#lab_3_3.47\n",
        "\n",
        "\n",
        "list = []\n",
        "list2 = []\n",
        "for _ in range(int(input())):\n",
        "    list.append(int(input()))\n",
        "print(list)\n",
        "print('Максимальный элемент массива: ', max(list))\n",
        "print('Порядковый номер максимального элемента массива: ', list.index(max(list))+1)\n",
        "for i in list:\n",
        "  if i % 2 != 0:\n",
        "    list2.append(i)\n",
        "print(sorted(list2, reverse = True))"
      ],
      "metadata": {
        "colab": {
          "base_uri": "https://localhost:8080/"
        },
        "id": "gINknWHZr3_k",
        "outputId": "f92cc5b4-9d8f-49b5-f63e-ea6fa760201b"
      },
      "execution_count": 1,
      "outputs": [
        {
          "output_type": "stream",
          "name": "stdout",
          "text": [
            "5\n",
            "8\n",
            "8\n",
            "2\n",
            "7\n",
            "33\n",
            "[8, 8, 2, 7, 33]\n",
            "Максимальный элемент массива:  33\n",
            "Порядковый номер максимального элемента массива:  5\n",
            "[33, 7]\n"
          ]
        }
      ]
    }
  ]
}