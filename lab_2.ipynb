{
  "nbformat": 4,
  "nbformat_minor": 0,
  "metadata": {
    "colab": {
      "provenance": [],
      "authorship_tag": "ABX9TyOfya7UuPZ2fFl4o7ikjp8j",
      "include_colab_link": true
    },
    "kernelspec": {
      "name": "python3",
      "display_name": "Python 3"
    },
    "language_info": {
      "name": "python"
    }
  },
  "cells": [
    {
      "cell_type": "markdown",
      "metadata": {
        "id": "view-in-github",
        "colab_type": "text"
      },
      "source": [
        "<a href=\"https://colab.research.google.com/github/sashaborodaneva/RPP_Lab2/blob/main/lab_2.ipynb\" target=\"_parent\"><img src=\"https://colab.research.google.com/assets/colab-badge.svg\" alt=\"Open In Colab\"/></a>"
      ]
    },
    {
      "cell_type": "code",
      "execution_count": null,
      "metadata": {
        "id": "xuCJtz_dWsl0"
      },
      "outputs": [],
      "source": [
        "#lab_1_1\n",
        "\n",
        "a = int(input())\n",
        "b = int(input())\n",
        "c = int(input())\n",
        "list = [a, b, c]\n",
        "print('Наименьшее число: ', min(list))"
      ]
    },
    {
      "cell_type": "code",
      "source": [
        "#lab_1_2\n",
        "\n",
        "a = int(input())\n",
        "if a in range (1, 51):\n",
        "  print('Попадает в интервал: ', a)\n",
        "else: print('Не попадает в интервал')\n",
        "\n",
        "b = int(input())\n",
        "if b in range (1, 51):\n",
        "  print('Попадает в интервал: ', b)\n",
        "else: print('Не попадает в интервал')\n",
        "\n",
        "c = int(input())\n",
        "if c in range (1, 51):\n",
        "  print('Попадает в интервал: ', c)\n",
        "else: print('Не попадает в интервал')"
      ],
      "metadata": {
        "id": "UOcMqYMSXF6p"
      },
      "execution_count": null,
      "outputs": []
    },
    {
      "cell_type": "code",
      "source": [
        "#lab_1_3\n",
        "\n",
        "m = float(input())\n",
        "list = []\n",
        "for i in range(1, 11):\n",
        "  if i <= 10:\n",
        "    list.append(i*m)\n",
        "print(list)"
      ],
      "metadata": {
        "id": "AUaIVoYoaoRl"
      },
      "execution_count": null,
      "outputs": []
    },
    {
      "cell_type": "code",
      "source": [
        "#lab_1_4.1\n",
        "\n",
        "i = 0\n",
        "while True:\n",
        "    a = int(input())\n",
        "    if a == 0:\n",
        "        break\n",
        "    i += a\n",
        "print('Сумма чисел последовательности: ', i)"
      ],
      "metadata": {
        "id": "dYElff0MfNIV"
      },
      "execution_count": null,
      "outputs": []
    },
    {
      "cell_type": "code",
      "source": [
        "#lab_1_4.2\n",
        "\n",
        "i=0\n",
        "while True:\n",
        "  a = int(input())\n",
        "  if a != 0:\n",
        "    i += 1\n",
        "  elif a == 0:\n",
        "    break\n",
        "print('Количество чисел последовательности: ', i)"
      ],
      "metadata": {
        "id": "jiMVvkj_fNN_"
      },
      "execution_count": null,
      "outputs": []
    },
    {
      "cell_type": "code",
      "source": [
        "#lab_2_2.4\n",
        "\n",
        "a = input()\n",
        "print('Количество замен: ', a.count('a'))\n",
        "print('Количество символов в строке: ', len(a))\n",
        "a.replace('a', 'o')"
      ],
      "metadata": {
        "id": "fkmqMB8Mu58N"
      },
      "execution_count": null,
      "outputs": []
    },
    {
      "cell_type": "code",
      "source": [
        "#lab_3_3.4\n",
        "\n",
        "k = int(input()) \n",
        "n = int(input()) \n",
        "list = [i*k-2*k for i in range(n)]\n",
        "print(list)\n",
        "print('Максимальный элемент массива: ', max(list))\n",
        "print('Индекс максимального элемента массива: ', list.index(max(list)))"
      ],
      "metadata": {
        "id": "x8SUXP3I72_U"
      },
      "execution_count": null,
      "outputs": []
    }
  ]
}